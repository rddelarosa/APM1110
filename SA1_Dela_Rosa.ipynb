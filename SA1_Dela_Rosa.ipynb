{
  "nbformat": 4,
  "nbformat_minor": 0,
  "metadata": {
    "colab": {
      "provenance": [],
      "authorship_tag": "ABX9TyO4Nw0ppL/2J+5K6B67RFUX",
      "include_colab_link": true
    },
    "kernelspec": {
      "name": "ir",
      "display_name": "R"
    },
    "language_info": {
      "name": "R"
    }
  },
  "cells": [
    {
      "cell_type": "markdown",
      "metadata": {
        "id": "view-in-github",
        "colab_type": "text"
      },
      "source": [
        "<a href=\"https://colab.research.google.com/github/rddelarosa/APM1110/blob/main/SA1_Dela_Rosa.ipynb\" target=\"_parent\"><img src=\"https://colab.research.google.com/assets/colab-badge.svg\" alt=\"Open In Colab\"/></a>"
      ]
    },
    {
      "cell_type": "markdown",
      "source": [
        " <h1> <b>SA 1"
      ],
      "metadata": {
        "id": "lxBSU1NKtdCf"
      }
    },
    {
      "cell_type": "markdown",
      "source": [
        " <h3> <b> No. 1"
      ],
      "metadata": {
        "id": "Ho7niGXhumOg"
      }
    },
    {
      "cell_type": "code",
      "source": [
        "calculate_defective_probability <- function() {\n",
        "  repeat {\n",
        "    x1 <- as.numeric(readline(\"Enter x1 (0.10 to 0.40) [Category Share]: \"))\n",
        "    if (is.na(x1) || x1 < 0.10 || x1 > 0.40) {\n",
        "      message(\"Invalid input: x1 must be between 0.10 and 0.40.\")\n",
        "      next\n",
        "    }\n",
        "\n",
        "    x2 <- as.numeric(readline(\"Enter x2 (0.10 to 0.40) [Category Share]: \"))\n",
        "    if (is.na(x2) || x2 < 0.10 || x2 > 0.40) {\n",
        "      message(\"Invalid input: x2 must be between 0.10 and 0.40.\")\n",
        "      next\n",
        "    }\n",
        "\n",
        "    x3 <- 1 - (x1 + x2)\n",
        "    if (x3 < 0.10 || x3 > 0.40) {\n",
        "      message(\"Invalid input: The calculated x3 value (1 - x1 - x2) is \", x3,\". x3 must be between 0.10 and 0.40. Adjust x1 and x2 accordingly.\\n\")\n",
        "      next\n",
        "    }\n",
        "    break\n",
        "  }\n",
        "\n",
        "  repeat {\n",
        "    y1 <- as.numeric(readline(\"Enter y1 (0.01 to 0.05) [Defect Rate of x1]: \"))\n",
        "    if (is.na(y1) || y1 < 0.01 || y1 > 0.05) {\n",
        "      message(\"Invalid input: y1 must be between 0.01 and 0.05.\")\n",
        "      next\n",
        "    }\n",
        "\n",
        "    y2 <- as.numeric(readline(\"Enter y2 (0.01 to 0.05) [Defect Rate of x2]: \"))\n",
        "    if (is.na(y2) || y2 < 0.01 || y2 > 0.05) {\n",
        "      message(\"Invalid input: y2 must be between 0.01 and 0.05.\")\n",
        "      next\n",
        "    }\n",
        "\n",
        "    y3 <- 0.12 - (y1 + y2)\n",
        "    if (y3 < 0.01 || y3 > 0.05) {\n",
        "      message(\"Invalid input: The calculated y3 value (1 - y1 - y2) is \", y3,\". y3 must be between 0.10 and 0.40. Adjust y1 and y2 accordingly.\\n\")\n",
        "      next\n",
        "    }\n",
        "    break\n",
        "  }\n",
        "\n",
        "  probability_defective <- x1 * y1 + x2 * y2 + x3 * y3\n",
        "\n",
        "  cat(\"\\nInputted Values:\\n\")\n",
        "  cat(\"x1:\", x1, \"\\nx2:\", x2, \"\\nx3:\", x3, \"\\n\\n\")\n",
        "  cat(\"y1:\", y1, \"\\ny2:\", y2, \"\\ny3:\", y3, \"\\n\\n\")\n",
        "  cat(\"Probability of a defective product:\", probability_defective, \"or\", probability_defective*100, \"%\")\n",
        "}\n",
        "\n",
        "calculate_defective_probability()\n"
      ],
      "metadata": {
        "colab": {
          "base_uri": "https://localhost:8080/"
        },
        "id": "0JMOVqwG1vw4",
        "outputId": "f43090b4-5ad9-4633-f8a4-de6cfa741926"
      },
      "execution_count": 13,
      "outputs": [
        {
          "output_type": "stream",
          "name": "stdout",
          "text": [
            "Enter x1 (0.10 to 0.40) [Category Share]: 0.3\n",
            "Enter x2 (0.10 to 0.40) [Category Share]: 0.4\n",
            "Enter y1 (0.01 to 0.05) [Defect Rate of x1]: 0.03\n",
            "Enter y2 (0.01 to 0.05) [Defect Rate of x2]: 0.04\n",
            "\n",
            "Inputted Values:\n",
            "x1: 0.3 \n",
            "x2: 0.4 \n",
            "x3: 0.3 \n",
            "\n",
            "y1: 0.03 \n",
            "y2: 0.04 \n",
            "y3: 0.05 \n",
            "\n",
            "Probability of a defective product: 0.04 or 4 %"
          ]
        }
      ]
    },
    {
      "cell_type": "markdown",
      "source": [
        " <h3> <b> No. 2"
      ],
      "metadata": {
        "id": "vNm36fQ8zPMJ"
      }
    },
    {
      "cell_type": "code",
      "source": [
        "library(ggplot2)\n",
        "library(dplyr)\n",
        "\n",
        "check_prob <- function(prob_vals) {\n",
        "  if (any(prob_vals < 0 | prob_vals > 1) || abs(sum(prob_vals) - 1) > 1e-6) {\n",
        "    stop(\"Error: Probabilities must be between 0 and 1 and sum to 1.\")\n",
        "  }\n",
        "}\n",
        "\n",
        "plot_distribution <- function(dist_df, axis_label) {\n",
        "  dist_df$cumulative_prob <- cumsum(dist_df$probability)\n",
        "\n",
        "  pmf_plot <- ggplot(dist_df, aes(x = factor(value_set), y = probability)) +\n",
        "    geom_bar(stat = \"identity\", fill = \"blue\", alpha = 0.7) +\n",
        "    labs(title = paste(\"PMF of\", axis_label), x = axis_label, y = \"P\") +\n",
        "    theme_minimal()\n",
        "  print(pmf_plot)\n",
        "\n",
        "  cdf_plot <- ggplot(dist_df, aes(x = factor(value_set), y = cumulative_prob, group = 1)) +\n",
        "    geom_step() +\n",
        "    labs(title = paste(\"CDF of\", axis_label), x = axis_label, y = \"F(X)\") +\n",
        "    theme_minimal()\n",
        "  print(cdf_plot)\n",
        "}\n",
        "\n",
        "# Univariate Analysis\n",
        "single_var_analysis <- function() {\n",
        "  value_set <- as.numeric(strsplit(readline(\"Enter values of X (space-separated, e.g., 1 2 3 4 5): \"), \" \")[[1]])\n",
        "  prob_vals <- as.numeric(strsplit(readline(\"Enter corresponding probabilities (space-separated, must sum to 1, e.g., 0.1 0.2 0.3 0.2 0.2): \"), \" \")[[1]])\n",
        "\n",
        "  check_prob(prob_vals)\n",
        "  avg_value <- sum(value_set * prob_vals)\n",
        "  deviation_value <- sum((value_set - avg_value)^2 * prob_vals)\n",
        "\n",
        "  message(\"Mean: \", avg_value, \"\\nVariance: \", deviation_value)\n",
        "  plot_distribution(data.frame(value_set = value_set, probability = prob_vals), \"X\")\n",
        "}\n",
        "\n",
        "# Bivariate Analysis\n",
        "dual_var_analysis <- function() {\n",
        "  set_x <- as.numeric(strsplit(readline(\"Enter values of X (space-separated, e.g., 1 2): \"), \" \")[[1]])\n",
        "  set_y <- as.numeric(strsplit(readline(\"Enter values of Y (space-separated, e.g., 3 4): \"), \" \")[[1]])\n",
        "  joint_probs <- as.numeric(strsplit(readline(\"Enter corresponding joint probabilities as a matrix (row-wise, space-separated, must sum to 1, e.g., 0.2 0.3 0.3 0.2): \"), \" \")[[1]])\n",
        "\n",
        "  check_prob(joint_probs)\n",
        "  joint_df <- expand.grid(X_var = set_x, Y_var = set_y) %>% mutate(PXY = joint_probs)\n",
        "\n",
        "  marginal_x <- joint_df %>% group_by(X_var) %>% summarize(PX = sum(PXY))\n",
        "  marginal_y <- joint_df %>% group_by(Y_var) %>% summarize(PY = sum(PXY))\n",
        "\n",
        "  message(\"Marginal Distribution of X:\")\n",
        "  print(marginal_x)\n",
        "\n",
        "  message(\"Marginal Distribution of Y:\")\n",
        "  print(marginal_y)\n",
        "\n",
        "  joint_df <- joint_df %>% left_join(marginal_x, by = \"X_var\") %>% mutate(P_Y_given_X = PXY / PX)\n",
        "  message(\"Conditional Distribution P(Y|X):\")\n",
        "  print(joint_df %>% select(X_var, Y_var, P_Y_given_X))\n",
        "\n",
        "  mean_xval <- sum(marginal_x$X_var * marginal_x$PX)\n",
        "  var_xval <- sum((marginal_x$X_var - mean_xval)^2 * marginal_x$PX)\n",
        "  mean_yval <- sum(marginal_y$Y_var * marginal_y$PY)\n",
        "  var_yval <- sum((marginal_y$Y_var - mean_yval)^2 * marginal_y$PY)\n",
        "\n",
        "  message(\"Mean of X: \", mean_xval, \"\\nVariance of X: \", var_xval)\n",
        "  message(\"Mean of Y: \", mean_yval, \"\\nVariance of Y: \", var_yval)\n",
        "\n",
        "  plot_distribution(marginal_x, \"X\")\n",
        "  plot_distribution(marginal_y, \"Y\")\n",
        "}\n",
        "\n",
        "# Main Menu\n",
        "repeat {\n",
        "  user_choice <- as.numeric(readline(\"Choose: 1 for Univariate, 2 for Bivariate: \"))\n",
        "  if (user_choice == 1) {\n",
        "    single_var_analysis()\n",
        "    break\n",
        "  } else if (user_choice == 2) {\n",
        "    dual_var_analysis()\n",
        "    break\n",
        "  } else {\n",
        "    message(\"Invalid choice. Please enter 1 or 2.\")\n",
        "  }\n",
        "}\n"
      ],
      "metadata": {
        "colab": {
          "base_uri": "https://localhost:8080/",
          "height": 961
        },
        "id": "wYPyAriL7wm6",
        "outputId": "682aa12d-6a3d-4ed3-b9eb-d07d461234af"
      },
      "execution_count": 23,
      "outputs": [
        {
          "name": "stdout",
          "output_type": "stream",
          "text": [
            "Choose: 1 for Univariate, 2 for Bivariate: 1\n",
            "Enter values of X (space-separated, e.g., 1 2 3 4 5): 2 3 8 5 7\n",
            "Enter corresponding probabilities (space-separated, must sum to 1, e.g., 0.1 0.2 0.3 0.2 0.2): 0.2 0.1 0.1 0.2 0.4\n"
          ]
        },
        {
          "output_type": "stream",
          "name": "stderr",
          "text": [
            "Mean: 5.3\n",
            "Variance: 4.61\n",
            "\n"
          ]
        },
        {
          "output_type": "display_data",
          "data": {
            "text/plain": [
              "plot without title"
            ],
            "image/png": "[encoded data removed]"
          },
          "metadata": {
            "image/png": {
              "width": 420,
              "height": 420
            }
          }
        },
        {
          "output_type": "display_data",
          "data": {
            "text/plain": [
              "plot without title"
            ],
            "image/png": "[encoded data removed]"
          },
          "metadata": {
            "image/png": {
              "width": 420,
              "height": 420
            }
          }
        }
      ]
    },
    {
      "cell_type": "markdown",
      "source": [
        " <h3> <b> No. 3"
      ],
      "metadata": {
        "id": "DUl09mL6zTSU"
      }
    },
    {
      "cell_type": "code",
      "source": [
        "# Set seed for reproducibility\n",
        "set.seed(123)\n",
        "\n",
        "# Number of simulations\n",
        "n_sim <- 10000\n",
        "\n",
        "# Probability of finding the key phrase in a site\n",
        "p <- 0.6\n",
        "\n",
        "# Generate the number of searches needed to find the key phrase\n",
        "searches <- rgeom(n_sim, p) + 1  # Geometric distribution (X ~ Geo(p)), shifted by 1\n",
        "\n",
        "# Plot simulated probability density function (pdf)\n",
        "hist(searches, probability = TRUE, breaks = 30, main = \"Simulated PDF of Searches\", xlab = \"Number of Searches\", col = \"blue\")\n",
        "\n",
        "# Calculate mean and variance\n",
        "mean_searches <- mean(searches)\n",
        "var_searches <- var(searches)\n",
        "\n",
        "cat(\"Mean of Searches:\", mean_searches, \"\\n\")\n",
        "cat(\"Variance of Searches:\", var_searches, \"\\n\")\n",
        "\n",
        "# Simulated conditional distribution given X > 3\n",
        "cond_searches <- searches[searches > 3] - 3  # Shifted to start from 1\n",
        "\n",
        "# Calculate conditional mean and variance\n",
        "mean_cond <- mean(cond_searches)\n",
        "var_cond <- var(cond_searches)\n",
        "\n",
        "cat(\"Conditional Mean (X > 3):\", mean_cond, \"\\n\")\n",
        "cat(\"Conditional Variance (X > 3):\", var_cond, \"\\n\")\n",
        "\n",
        "# Verify Markov memoryless property\n",
        "prob_X4_given_X3 <- sum(searches == 4) / sum(searches > 3)\n",
        "prob_X1 <- sum(searches == 1) / n_sim\n",
        "\n",
        "prob_X5_given_X3 <- sum(searches == 5) / sum(searches > 3)\n",
        "prob_X2 <- sum(searches == 2) / n_sim\n",
        "\n",
        "cat(\"P(X = 4 | X > 3):\", prob_X4_given_X3, \"\\n\")\n",
        "cat(\"P(X = 1):\", prob_X1, \"\\n\")\n",
        "\n",
        "cat(\"P(X = 5 | X > 3):\", prob_X5_given_X3, \"\\n\")\n",
        "cat(\"P(X = 2):\", prob_X2, \"\\n\")\n"
      ],
      "metadata": {
        "colab": {
          "base_uri": "https://localhost:8080/",
          "height": 576
        },
        "id": "FTVyjLwN34sR",
        "outputId": "6e6b4483-b02f-4a32-9e87-fce7e318f2e0"
      },
      "execution_count": 24,
      "outputs": [
        {
          "output_type": "stream",
          "name": "stdout",
          "text": [
            "Mean of Searches: 1.6612 \n",
            "Variance of Searches: 1.104725 \n",
            "Conditional Mean (X > 3): 1.643533 \n",
            "Conditional Variance (X > 3): 1.16499 \n",
            "P(X = 4 | X > 3): 0.6182965 \n",
            "P(X = 1): 0.6045 \n",
            "P(X = 5 | X > 3): 0.2287066 \n",
            "P(X = 2): 0.234 \n"
          ]
        },
        {
          "output_type": "display_data",
          "data": {
            "text/plain": [
              "Plot with title “Simulated PDF of Searches”"
            ],
            "image/png": "[encoded data removed]"
          },
          "metadata": {
            "image/png": {
              "width": 420,
              "height": 420
            }
          }
        }
      ]
    }
  ]
}